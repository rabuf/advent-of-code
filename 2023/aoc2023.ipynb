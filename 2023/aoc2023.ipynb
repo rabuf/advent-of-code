{
 "cells": [
  {
   "cell_type": "code",
   "execution_count": 1,
   "metadata": {},
   "outputs": [],
   "source": [
    "from pytest import mark\n",
    "from hypothesis import given, strategies as st\n",
    "import ipytest\n",
    "from pathlib import Path\n",
    "from collections import defaultdict\n",
    "import re\n",
    "import regex\n",
    "import timeit\n",
    "from itertools import product\n",
    "from functools import reduce\n",
    "from operator import mul\n",
    "ipytest.autoconfig()"
   ]
  },
  {
   "cell_type": "code",
   "execution_count": 2,
   "metadata": {},
   "outputs": [],
   "source": [
    "input_path = Path(\".\") / \"input\""
   ]
  },
  {
   "cell_type": "code",
   "execution_count": 3,
   "metadata": {},
   "outputs": [],
   "source": [
    "files, data, solvers = {}, {}, {}"
   ]
  },
  {
   "cell_type": "code",
   "execution_count": 4,
   "metadata": {},
   "outputs": [],
   "source": [
    "for f in input_path.iterdir():\n",
    "    files[f.stem] = f.read_text()"
   ]
  },
  {
   "cell_type": "code",
   "execution_count": 5,
   "metadata": {},
   "outputs": [],
   "source": [
    "class Solver:\n",
    "    def __init__(self, data):\n",
    "        raise NotImplementedError()\n",
    "    def part1(self):\n",
    "        raise NotImplementedError()\n",
    "    def part2(self):\n",
    "        raise NotImplementedError()"
   ]
  },
  {
   "cell_type": "code",
   "execution_count": 6,
   "metadata": {},
   "outputs": [],
   "source": [
    "def solve_all(files):\n",
    "    for key, contents in files.items():\n",
    "        if f'Day{key}' in globals():\n",
    "            day = globals()[f'Day{key}'](contents)\n",
    "            try:\n",
    "                part1 = day.part1()\n",
    "            except:\n",
    "                part1 = None\n",
    "            try:\n",
    "                part2 = day.part2()\n",
    "            except:\n",
    "                part2 = None\n",
    "            print(f'''Day {key}\n",
    "                Part 1: {part1}\n",
    "                Part 2: {part2}''')"
   ]
  },
  {
   "cell_type": "code",
   "execution_count": 7,
   "metadata": {},
   "outputs": [],
   "source": [
    "def name_to_number(name):\n",
    "    values = {'one':'1', 'two':'2', 'three':'3', 'four':'4', 'five':'5', 'six':'6', 'seven':'7', 'eight':'8', 'nine':'9'}\n",
    "    return values[name] if name in values else name\n",
    "\n",
    "def line_to_calibration_value(line, pattern=r'(\\d)'):\n",
    "    nums = regex.findall(pattern, line, overlapped=True)\n",
    "    return int(name_to_number(nums[0]) + name_to_number(nums[-1]))\n",
    "\n",
    "class Day01(Solver):\n",
    "    def __init__(self, data):\n",
    "        self.data = data\n",
    "\n",
    "    def part2(self):\n",
    "        pattern = r'(\\d|one|two|three|four|five|six|seven|eight|nine)'\n",
    "        return sum(line_to_calibration_value(line, pattern) for line in self.data.splitlines())\n",
    "\n",
    "    def part1(self):\n",
    "        return sum(line_to_calibration_value(line) for line in self.data.splitlines())\n",
    "    "
   ]
  },
  {
   "cell_type": "code",
   "execution_count": 8,
   "metadata": {
    "scrolled": true
   },
   "outputs": [
    {
     "name": "stdout",
     "output_type": "stream",
     "text": [
      "\u001b[32m.\u001b[0m\u001b[32m.\u001b[0m\u001b[32m.\u001b[0m\u001b[32m.\u001b[0m\u001b[32m.\u001b[0m\u001b[32m.\u001b[0m\u001b[32m.\u001b[0m\u001b[32m.\u001b[0m\u001b[32m.\u001b[0m\u001b[32m.\u001b[0m\u001b[32m.\u001b[0m\u001b[32m.\u001b[0m\u001b[32m.\u001b[0m\u001b[32m                                                                                [100%]\u001b[0m\n",
      "\u001b[32m\u001b[32m\u001b[1m13 passed\u001b[0m\u001b[32m in 0.09s\u001b[0m\u001b[0m\n"
     ]
    }
   ],
   "source": [
    "%%ipytest -W \"ignore:Module already imported\"\n",
    "\n",
    "day1_sample = \"\"\"two1nine\n",
    "eightwothree\n",
    "abcone2threexyz\n",
    "xtwone3four\n",
    "4nineeightseven2\n",
    "zoneight234\n",
    "7pqrstsixteen\n",
    "twone\n",
    "eighthree\n",
    "oneight\n",
    "\"\"\"\n",
    "\n",
    "day1_part2_interp = [29, 83, 13, 24, 42, 14, 76, 21, 83, 18]\n",
    "\n",
    "@mark.parametrize(\"line,expected\", zip(day1_sample.splitlines(), day1_part2_interp))\n",
    "def test_day1_part2_parsing(line, expected):\n",
    "    assert line_to_calibration_value(line, r'(\\d|one|two|three|four|five|six|seven|eight|nine)') == expected\n",
    "\n",
    "def test_day1_part2_sample():\n",
    "    assert Day01(day1_sample).part2() == sum(day1_part2_interp)\n",
    "\n",
    "def test_day1_part1():\n",
    "    assert Day01(files['01']).part1() == 55130\n",
    "\n",
    "def test_day1_part2():\n",
    "    assert Day01(files['01']).part2() == 54985"
   ]
  },
  {
   "cell_type": "markdown",
   "metadata": {},
   "source": [
    "### Day 2\n",
    "\n",
    "Each game is a series of draws and returns to the same bag. Determine which games are\n",
    "possible given the following constraints:\n",
    "\n",
    "> only 12 red cubes, 13 green cubes, and 14 blue cubes\n",
    "\n",
    "Approach: For each game collect the max of each RGB cube and then filter by the above, sum the game ids."
   ]
  },
  {
   "cell_type": "code",
   "execution_count": 9,
   "metadata": {},
   "outputs": [],
   "source": [
    "def parse_game(game):\n",
    "    id = int(re.search(r'(\\d+)', game).groups(1)[0])\n",
    "    rounds = game.split(':')[1].split(';')\n",
    "    return (id, [round_to_dict(round) for round in rounds])\n",
    "\n",
    "def round_to_dict(round):\n",
    "    draw = defaultdict(int)\n",
    "    pair = re.finditer(r'(\\d+) (\\w+)', round)\n",
    "    for p in pair:\n",
    "        count, color = int(p.group(1)), p.group(2)\n",
    "        draw[color] = count\n",
    "    return draw\n",
    "\n",
    "def game_max(rounds):\n",
    "    game = defaultdict(int)\n",
    "    for round in rounds:\n",
    "        for (color, count) in round.items():\n",
    "            game[color] = max(game[color], count)\n",
    "    return game\n",
    "\n",
    "def possible(game):\n",
    "    return game['red'] <= 12 and game['green'] <= 13 and game['blue'] <= 14"
   ]
  },
  {
   "cell_type": "code",
   "execution_count": 10,
   "metadata": {},
   "outputs": [],
   "source": [
    "matches = parse_game(files['02'].splitlines()[0])"
   ]
  },
  {
   "cell_type": "code",
   "execution_count": 11,
   "metadata": {},
   "outputs": [],
   "source": [
    "class Day02(Solver):\n",
    "    def __init__(self, data):\n",
    "        self.data = data\n",
    "    def part1(self):\n",
    "        games = [parse_game(game) for game in self.data.splitlines()]\n",
    "        maxes = [(id, game_max(rounds)) for (id, rounds) in games]\n",
    "        return sum(possible(game) * id for (id, game) in maxes)\n",
    "    def part2(self):\n",
    "        games = [parse_game(game) for game in self.data.splitlines()]\n",
    "        maxes = [(id, game_max(rounds)) for (id, rounds) in games]\n",
    "        p = 0\n",
    "        for (id, m) in maxes:\n",
    "            p += reduce(mul, m.values())\n",
    "        return sum(reduce(mul, m.values()) for (_, m) in maxes)"
   ]
  },
  {
   "cell_type": "code",
   "execution_count": 12,
   "metadata": {},
   "outputs": [
    {
     "name": "stdout",
     "output_type": "stream",
     "text": [
      "\u001b[32m.\u001b[0m\u001b[32m.\u001b[0m\u001b[32m.\u001b[0m\u001b[32m.\u001b[0m\u001b[32m.\u001b[0m\u001b[32m.\u001b[0m\u001b[32m.\u001b[0m\u001b[32m.\u001b[0m\u001b[32m.\u001b[0m\u001b[32m.\u001b[0m\u001b[32m.\u001b[0m\u001b[32m.\u001b[0m\u001b[32m.\u001b[0m\u001b[32m.\u001b[0m\u001b[32m.\u001b[0m\u001b[32m.\u001b[0m\u001b[32m.\u001b[0m\u001b[32m                                                                            [100%]\u001b[0m\n",
      "\u001b[32m\u001b[32m\u001b[1m17 passed\u001b[0m\u001b[32m in 0.30s\u001b[0m\u001b[0m\n"
     ]
    }
   ],
   "source": [
    "%%ipytest -W \"ignore:Module already imported\"\n",
    "\n",
    "day2_part1_sample = \"\"\"Game 1: 3 blue, 4 red; 1 red, 2 green, 6 blue; 2 green\n",
    "Game 2: 1 blue, 2 green; 3 green, 4 blue, 1 red; 1 green, 1 blue\n",
    "Game 3: 8 green, 6 blue, 20 red; 5 blue, 4 red, 13 green; 5 green, 1 red\n",
    "Game 4: 1 green, 3 red, 6 blue; 3 green, 6 red; 3 green, 15 blue, 14 red\n",
    "Game 5: 6 red, 1 blue, 3 green; 2 blue, 1 red, 2 green\n",
    "\"\"\"\n",
    "\n",
    "day2_part1_parsed = [\n",
    "    (1, [{'blue': 3, 'red': 4},\n",
    "         {'red': 1, 'green': 2, 'blue': 6},\n",
    "         {'green': 2}]),\n",
    "    (2, [{'blue': 1, 'green': 2},\n",
    "         {'green': 3, 'blue': 4, 'red': 1},\n",
    "         {'green': 1, 'blue': 1}]),\n",
    "    (3, [{'green': 8, 'blue': 6, 'red': 20},\n",
    "         {'blue': 5, 'red': 4, 'green': 13},\n",
    "         {'green': 5, 'red': 1}]),\n",
    "    (4, [{'green': 1, 'red': 3, 'blue': 6},\n",
    "         {'green': 3, 'red': 6},\n",
    "         {'green': 3, 'blue': 15, 'red': 14}]),\n",
    "    (5, [{'red': 6, 'blue': 1, 'green': 3},\n",
    "         {'blue': 2, 'red': 1, 'green': 2}])\n",
    "]\n",
    "\n",
    "day2_part1_expected = 8 # 1, 2, 5 possible, 3 and 4 impossible\n",
    "\n",
    "day2_part1_possible = [True, True, False, False, True]\n",
    "\n",
    "day2_part2_values = [48, 12, 1560, 630, 36]\n",
    "\n",
    "@mark.parametrize(\"game,expected\", zip(day2_part1_sample.splitlines(), day2_part1_parsed))\n",
    "def test_day2_parsing(game,expected):\n",
    "    assert parse_game(game) == expected\n",
    "\n",
    "@given(id=st.integers(min_value=0), draws=st.lists(st.dictionaries(keys=st.sampled_from(['red', 'green', 'blue']), values=st.integers(min_value=1,max_value=20), min_size=1), min_size=1))\n",
    "def test_random_parsing(id, draws):\n",
    "    \"\"\"\n",
    "    This is just fooling around. It'll generate a whole bunch of random sets, I construct the input and test\n",
    "    that my parsing function produces the same result. It generates an int for the id and a list[dict] for\n",
    "    the rounds. Each round is guaranteed to have at least one cube color and each game is guaranteed at\n",
    "    least one round.\n",
    "    \"\"\"\n",
    "    game = f'Game {id}: {\"; \".join(\", \".join(f\"{val} {color}\" for color,val in draw.items()) for draw in draws)}'\n",
    "    parsed_id, parsed_draws = parse_game(game)\n",
    "    assert parsed_id == id\n",
    "    assert parsed_draws == draws\n",
    "\n",
    "def test_day2_part1():\n",
    "    day2 = Day02(day2_part1_sample)\n",
    "    assert day2.part1() == 8\n",
    "\n",
    "def test_day2_part1():\n",
    "    day2 = Day02(day2_part1_sample)\n",
    "    assert day2.part2() == sum(day2_part2_values)\n",
    "\n",
    "@mark.parametrize(\"game,expected\", zip(day2_part1_sample.splitlines(), day2_part1_possible))\n",
    "def test_day2_part1_possible(game, expected):\n",
    "    (id, rounds) = parse_game(game)\n",
    "    maxes = game_max(rounds)\n",
    "    assert possible(maxes) == expected\n",
    "\n",
    "@mark.parametrize(\"game,expected\", zip(day2_part1_sample.splitlines(), day2_part2_values))\n",
    "def test_day2_part2_parts(game, expected):\n",
    "    (id, rounds) = parse_game(game)\n",
    "    maxes = game_max(rounds)\n",
    "    print(maxes)\n",
    "    assert reduce(mul, maxes.values()) == expected\n"
   ]
  },
  {
   "cell_type": "code",
   "execution_count": 13,
   "metadata": {},
   "outputs": [
    {
     "name": "stdout",
     "output_type": "stream",
     "text": [
      "Day 01\n",
      "                Part 1: 55130\n",
      "                Part 2: 54985\n",
      "Day 02\n",
      "                Part 1: 3099\n",
      "                Part 2: 72970\n"
     ]
    }
   ],
   "source": [
    "solve_all(files)"
   ]
  }
 ],
 "metadata": {
  "kernelspec": {
   "display_name": "Python 3 (ipykernel)",
   "language": "python",
   "name": "python3"
  },
  "language_info": {
   "codemirror_mode": {
    "name": "ipython",
    "version": 3
   },
   "file_extension": ".py",
   "mimetype": "text/x-python",
   "name": "python",
   "nbconvert_exporter": "python",
   "pygments_lexer": "ipython3",
   "version": "3.11.0"
  }
 },
 "nbformat": 4,
 "nbformat_minor": 4
}
